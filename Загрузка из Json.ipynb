{
 "cells": [
  {
   "cell_type": "markdown",
   "id": "1b55ca24",
   "metadata": {},
   "source": [
    "#### Загрузка из Json"
   ]
  },
  {
   "cell_type": "code",
   "execution_count": 6,
   "id": "629eb875",
   "metadata": {},
   "outputs": [],
   "source": [
    "import pandas as pd\n",
    "import numpy as np\n",
    "import json\n",
    "import glob\n",
    "import codecs"
   ]
  },
  {
   "cell_type": "code",
   "execution_count": 7,
   "id": "24bde774",
   "metadata": {},
   "outputs": [],
   "source": [
    "# Путь\n",
    "path = 'Data'\n",
    "file = glob.glob(path + \"/*.json\")"
   ]
  },
  {
   "cell_type": "code",
   "execution_count": 8,
   "id": "e46eb6ea",
   "metadata": {},
   "outputs": [],
   "source": [
    "df_data=[]\n",
    "for filename in file:\n",
    "    name = filename.split(\"\\\\\")[-1][:-5]\n",
    "    \n",
    "    with codecs.open(filename, 'r', 'utf-8-sig') as json_file:  \n",
    "        data = json.load(json_file)\n",
    "           \n",
    "    for article in data['refs']:\n",
    "        if article!=None:\n",
    "            df_data.append([name, article[0], article[1]['day'], article[1]['month'], article[1]['time']])\n",
    "\n",
    "df_full=pd.DataFrame(data=df_data,columns=['Название файла', 'Пост', 'день публикации', 'месяц публикации', 'время публикации'])"
   ]
  },
  {
   "cell_type": "code",
   "execution_count": null,
   "id": "29fa39b4",
   "metadata": {
    "scrolled": true
   },
   "outputs": [],
   "source": []
  },
  {
   "cell_type": "code",
   "execution_count": 17,
   "id": "a88c4ea4",
   "metadata": {
    "scrolled": true
   },
   "outputs": [
    {
     "name": "stdout",
     "output_type": "stream",
     "text": [
      "<class 'pandas.core.frame.DataFrame'>\n",
      "RangeIndex: 1112 entries, 0 to 1111\n",
      "Data columns (total 5 columns):\n",
      " #   Column            Non-Null Count  Dtype \n",
      "---  ------            --------------  ----- \n",
      " 0   Название файла    1112 non-null   object\n",
      " 1   Пост              1112 non-null   object\n",
      " 2   день публикации   1112 non-null   object\n",
      " 3   месяц публикации  1112 non-null   object\n",
      " 4   время публикации  1112 non-null   object\n",
      "dtypes: object(5)\n",
      "memory usage: 43.6+ KB\n"
     ]
    }
   ],
   "source": [
    "df_full.info()"
   ]
  },
  {
   "cell_type": "code",
   "execution_count": 57,
   "id": "c40f1efd",
   "metadata": {},
   "outputs": [],
   "source": [
    "df_full = df_full.drop(df_full.index[0:790])"
   ]
  },
  {
   "cell_type": "code",
   "execution_count": 58,
   "id": "c94c96e2",
   "metadata": {},
   "outputs": [
    {
     "name": "stdout",
     "output_type": "stream",
     "text": [
      "<class 'pandas.core.frame.DataFrame'>\n",
      "Int64Index: 100 entries, 1011 to 1111\n",
      "Data columns (total 5 columns):\n",
      " #   Column            Non-Null Count  Dtype \n",
      "---  ------            --------------  ----- \n",
      " 0   Название файла    100 non-null    object\n",
      " 1   Пост              100 non-null    object\n",
      " 2   день публикации   100 non-null    object\n",
      " 3   месяц публикации  100 non-null    object\n",
      " 4   время публикации  100 non-null    object\n",
      "dtypes: object(5)\n",
      "memory usage: 4.7+ KB\n"
     ]
    }
   ],
   "source": [
    "df_full.info()"
   ]
  },
  {
   "cell_type": "markdown",
   "id": "828536c0",
   "metadata": {},
   "source": [
    "#### Обработка текста"
   ]
  },
  {
   "cell_type": "code",
   "execution_count": 59,
   "id": "ad34ef41",
   "metadata": {},
   "outputs": [],
   "source": [
    "import pymorphy2\n",
    "import re\n",
    "from nltk.corpus import stopwords\n",
    "from nltk.tokenize import word_tokenize"
   ]
  },
  {
   "cell_type": "code",
   "execution_count": 60,
   "id": "225d6bcb",
   "metadata": {},
   "outputs": [],
   "source": [
    "sw = stopwords.words('russian') # стоп слова\n",
    "morph = pymorphy2.MorphAnalyzer() # для нормализации"
   ]
  },
  {
   "cell_type": "code",
   "execution_count": 61,
   "id": "4cc0c2bf",
   "metadata": {},
   "outputs": [],
   "source": [
    "def clear_text(text):\n",
    "    text = text.lower() # приводим все в нижний реестр\n",
    "    text = re.sub(r'[^а-яё ]','', str(text)) # удаление пунктуации\n",
    "    tokens = word_tokenize(text, language=\"russian\") # токенизация\n",
    "    tokens = [morph.parse(i)[0].normal_form for i in tokens] # нормализация\n",
    "    tokens = [ i for i in tokens if i not in sw and len(i) > 3] # не включаем стоп-слова\n",
    "    return tokens"
   ]
  },
  {
   "cell_type": "code",
   "execution_count": 62,
   "id": "ac40cc2e",
   "metadata": {},
   "outputs": [],
   "source": [
    "df_full['lemmatize_tokens'] = df_full['Пост'].apply(clear_text)"
   ]
  },
  {
   "cell_type": "code",
   "execution_count": null,
   "id": "05658abc",
   "metadata": {
    "scrolled": true
   },
   "outputs": [],
   "source": []
  },
  {
   "cell_type": "code",
   "execution_count": 67,
   "id": "00cc2757",
   "metadata": {},
   "outputs": [],
   "source": [
    "df_full['clear_text'] = df_full['lemmatize_tokens'].apply(lambda x: \" \".join(x))"
   ]
  },
  {
   "cell_type": "code",
   "execution_count": null,
   "id": "43df659e",
   "metadata": {
    "scrolled": true
   },
   "outputs": [],
   "source": []
  },
  {
   "cell_type": "code",
   "execution_count": 71,
   "id": "d7a25e82",
   "metadata": {},
   "outputs": [],
   "source": [
    "df_full.to_csv('data2.csv', index=False)"
   ]
  },
  {
   "cell_type": "markdown",
   "id": "a26514ff",
   "metadata": {},
   "source": [
    "#### Векторизация и поиск ngram"
   ]
  },
  {
   "cell_type": "code",
   "execution_count": 72,
   "id": "799cfb8f",
   "metadata": {},
   "outputs": [],
   "source": [
    "from sklearn.feature_extraction.text import CountVectorizer, TfidfVectorizer, HashingVectorizer"
   ]
  },
  {
   "cell_type": "code",
   "execution_count": null,
   "id": "bcf16644",
   "metadata": {},
   "outputs": [],
   "source": []
  },
  {
   "cell_type": "code",
   "execution_count": null,
   "id": "50125ae3",
   "metadata": {},
   "outputs": [],
   "source": []
  },
  {
   "cell_type": "code",
   "execution_count": null,
   "id": "8b8b6e85",
   "metadata": {},
   "outputs": [],
   "source": []
  }
 ],
 "metadata": {
  "kernelspec": {
   "display_name": "Python 3 (ipykernel)",
   "language": "python",
   "name": "python3"
  },
  "language_info": {
   "codemirror_mode": {
    "name": "ipython",
    "version": 3
   },
   "file_extension": ".py",
   "mimetype": "text/x-python",
   "name": "python",
   "nbconvert_exporter": "python",
   "pygments_lexer": "ipython3",
   "version": "3.10.9"
  }
 },
 "nbformat": 4,
 "nbformat_minor": 5
}
