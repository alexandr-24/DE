{
 "cells": [
  {
   "cell_type": "code",
   "execution_count": 4,
   "id": "dee66bdd",
   "metadata": {},
   "outputs": [
    {
     "name": "stderr",
     "output_type": "stream",
     "text": [
      "[nltk_data] Downloading package stopwords to\n",
      "[nltk_data]     C:\\Users\\akab2\\AppData\\Roaming\\nltk_data...\n",
      "[nltk_data]   Unzipping corpora\\stopwords.zip.\n",
      "[nltk_data] Downloading package punkt to\n",
      "[nltk_data]     C:\\Users\\akab2\\AppData\\Roaming\\nltk_data...\n",
      "[nltk_data]   Unzipping tokenizers\\punkt.zip.\n",
      "[nltk_data] Downloading package snowball_data to\n",
      "[nltk_data]     C:\\Users\\akab2\\AppData\\Roaming\\nltk_data...\n",
      "[nltk_data] Downloading package perluniprops to\n",
      "[nltk_data]     C:\\Users\\akab2\\AppData\\Roaming\\nltk_data...\n",
      "[nltk_data]   Unzipping misc\\perluniprops.zip.\n",
      "[nltk_data] Downloading package universal_tagset to\n",
      "[nltk_data]     C:\\Users\\akab2\\AppData\\Roaming\\nltk_data...\n",
      "[nltk_data]   Unzipping taggers\\universal_tagset.zip.\n",
      "[nltk_data] Downloading package stopwords to\n",
      "[nltk_data]     C:\\Users\\akab2\\AppData\\Roaming\\nltk_data...\n",
      "[nltk_data]   Package stopwords is already up-to-date!\n",
      "[nltk_data] Downloading package nonbreaking_prefixes to\n",
      "[nltk_data]     C:\\Users\\akab2\\AppData\\Roaming\\nltk_data...\n",
      "[nltk_data]   Unzipping corpora\\nonbreaking_prefixes.zip.\n",
      "[nltk_data] Downloading package wordnet to\n",
      "[nltk_data]     C:\\Users\\akab2\\AppData\\Roaming\\nltk_data...\n"
     ]
    },
    {
     "data": {
      "text/plain": [
       "True"
      ]
     },
     "execution_count": 4,
     "metadata": {},
     "output_type": "execute_result"
    }
   ],
   "source": [
    "import nltk\n",
    "nltk.download('stopwords')\n",
    "nltk.download('punkt')\n",
    "nltk.download('snowball_data')\n",
    "nltk.download('perluniprops')\n",
    "nltk.download('universal_tagset')\n",
    "nltk.download('stopwords')\n",
    "nltk.download('nonbreaking_prefixes')\n",
    "nltk.download('wordnet')"
   ]
  },
  {
   "cell_type": "code",
   "execution_count": 5,
   "id": "a9c06190",
   "metadata": {},
   "outputs": [],
   "source": [
    "import pymorphy2\n",
    "import re\n",
    "from nltk.corpus import stopwords\n",
    "from nltk.tokenize import word_tokenize"
   ]
  },
  {
   "cell_type": "code",
   "execution_count": 6,
   "id": "b00a4d68",
   "metadata": {},
   "outputs": [],
   "source": [
    "sw = stopwords.words('russian') # стоп слова\n",
    "morph = pymorphy2.MorphAnalyzer() # для нормализации"
   ]
  },
  {
   "cell_type": "code",
   "execution_count": 7,
   "id": "12a23c71",
   "metadata": {},
   "outputs": [],
   "source": [
    "def clear_text(text):\n",
    "    text = text.lower() # приводим все в нижний реестр\n",
    "    text = re.sub(r'[^а-яё ]','', str(text)) # удаление пунктуации\n",
    "    tokens = word_tokenize(text, language=\"russian\") # токенизация\n",
    "    tokens = [morph.parse(i)[0].normal_form for i in tokens] # нормализация\n",
    "    tokens = [ i for i in tokens if i not in sw and len(i) > 3] # не включаем стоп-слова\n",
    "    return tokens"
   ]
  },
  {
   "cell_type": "code",
   "execution_count": null,
   "id": "fc8854f0",
   "metadata": {},
   "outputs": [],
   "source": [
    "tk['lemmatize_tokens'] = tk['Post'].apply(clear_text)"
   ]
  }
 ],
 "metadata": {
  "kernelspec": {
   "display_name": "Python 3 (ipykernel)",
   "language": "python",
   "name": "python3"
  },
  "language_info": {
   "codemirror_mode": {
    "name": "ipython",
    "version": 3
   },
   "file_extension": ".py",
   "mimetype": "text/x-python",
   "name": "python",
   "nbconvert_exporter": "python",
   "pygments_lexer": "ipython3",
   "version": "3.10.9"
  }
 },
 "nbformat": 4,
 "nbformat_minor": 5
}
